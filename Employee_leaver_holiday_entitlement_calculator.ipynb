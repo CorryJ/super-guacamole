{
  "nbformat": 4,
  "nbformat_minor": 0,
  "metadata": {
    "colab": {
      "name": "Employee leaver holiday entitlement calculator",
      "provenance": [],
      "collapsed_sections": [],
      "include_colab_link": true
    },
    "kernelspec": {
      "name": "python3",
      "display_name": "Python 3"
    }
  },
  "cells": [
    {
      "cell_type": "markdown",
      "metadata": {
        "id": "view-in-github",
        "colab_type": "text"
      },
      "source": [
        "<a href=\"https://colab.research.google.com/github/CorryJ/super-guacamole/blob/master/Employee_leaver_holiday_entitlement_calculator.ipynb\" target=\"_parent\"><img src=\"https://colab.research.google.com/assets/colab-badge.svg\" alt=\"Open In Colab\"/></a>"
      ]
    },
    {
      "cell_type": "markdown",
      "metadata": {
        "id": "ZxCarQ4NB5iW",
        "colab_type": "text"
      },
      "source": [
        "This calculator has been made to have a **consistent** way to ascertain the number of days an employee is entitled to when they leave:\n",
        "\n",
        "To run just click the \"run\" button top left of the code and fill in the fields below the code as prompted using the syntax suggested i.e month should be 4 not 04\n",
        "\n",
        "Ben - if this is not the same output you would expect please let me know and I'll update the code with that logic.\n",
        "\n",
        "**Note:** This does not include days already taken from TimeTastic\n",
        "**Note update:** It does now"
      ]
    },
    {
      "cell_type": "code",
      "metadata": {
        "id": "foIjgKxs6Dhf",
        "colab_type": "code",
        "colab": {}
      },
      "source": [
        "import datetime\n",
        "year = int(input(\"Leaving year e.g 2020: \"))\n",
        "month = int(input(\"Leaving month e.g. 4: \"))\n",
        "day = int(input(\"Leaving day date e.g 14: \"))\n",
        "holiday_entitlement = float(input(\"no of days holiday employee gets: \"))\n",
        "timetastic_days_taken = float(input(\"No of days employee has taken up to leave date: \"))\n",
        "\n",
        "leaving_date = datetime.datetime(year, month, day)\n",
        "day_of_year = leaving_date.strftime('%j')\n",
        "pro_rata_ratio = float(day_of_year) / 365\n",
        "\n",
        "final_hols = round(pro_rata_ratio * holiday_entitlement- timetastic_days_taken,1)\n",
        "\n",
        "print(\"Leaving employee is entitled: \" + str(final_hols) + \" days holiday\")"
      ],
      "execution_count": 0,
      "outputs": []
    }
  ]
}